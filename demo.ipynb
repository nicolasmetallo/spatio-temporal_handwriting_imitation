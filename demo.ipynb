{
 "cells": [
  {
   "cell_type": "markdown",
   "metadata": {},
   "source": [
    " # Generate realistic handwriting from a string"
   ]
  },
  {
   "cell_type": "markdown",
   "metadata": {},
   "source": [
    "## Import libraries"
   ]
  },
  {
   "cell_type": "code",
   "execution_count": null,
   "metadata": {},
   "outputs": [],
   "source": [
    "# !pip install -r requirements.txt\n",
    "# !pip install Faker # in case you want to create realistic names, places, etc."
   ]
  },
  {
   "cell_type": "code",
   "execution_count": null,
   "metadata": {},
   "outputs": [],
   "source": [
    "import os\n",
    "os.environ[\"CFLAGS\"] = '-std=c99' # fix for envs where there's an older version of C++ compilers, e.g. some Amazon Linux AMIs"
   ]
  },
  {
   "cell_type": "code",
   "execution_count": null,
   "metadata": {},
   "outputs": [
    {
     "name": "stdout",
     "output_type": "stream",
     "text": [
      "Building library 'ccode' ...\n",
      "running build_ext\n",
      "building '__lib' extension\n",
      "gcc -pthread -B /home/ec2-user/anaconda3/envs/tensorflow_p36/compiler_compat -Wl,--sysroot=/ -DNDEBUG -g -fwrapv -O3 -Wall -Wstrict-prototypes -std=c99 -fPIC -I/home/ec2-user/anaconda3/envs/tensorflow_p36/lib/python3.6/site-packages/numpy/core/include -I/home/ec2-user/anaconda3/envs/tensorflow_p36/include/python3.6m -c __src/module.c -o build/temp.linux-x86_64-3.6/__src/module.o\n",
      "gcc -pthread -B /home/ec2-user/anaconda3/envs/tensorflow_p36/compiler_compat -Wl,--sysroot=/ -DNDEBUG -g -fwrapv -O3 -Wall -Wstrict-prototypes -std=c99 -fPIC -I/home/ec2-user/anaconda3/envs/tensorflow_p36/lib/python3.6/site-packages/numpy/core/include -I/home/ec2-user/anaconda3/envs/tensorflow_p36/include/python3.6m -c __src/compute_accelerated_stroke.c -o build/temp.linux-x86_64-3.6/__src/compute_accelerated_stroke.o\n",
      "gcc -pthread -shared -B /home/ec2-user/anaconda3/envs/tensorflow_p36/compiler_compat -L/home/ec2-user/anaconda3/envs/tensorflow_p36/lib -Wl,-rpath=/home/ec2-user/anaconda3/envs/tensorflow_p36/lib -Wl,--no-as-needed -Wl,--sysroot=/ -std=c99 build/temp.linux-x86_64-3.6/__src/module.o build/temp.linux-x86_64-3.6/__src/compute_accelerated_stroke.o -o /home/ec2-user/SageMaker/spatio-temporal_handwriting_imitation/algorithms/ccode/__lib.cpython-36m-x86_64-linux-gnu.so\n"
     ]
    }
   ],
   "source": [
    "import argparse\n",
    "import time\n",
    "import yaml\n",
    "\n",
    "from PIL import Image, ImageFilter, ImageOps, ImageEnhance\n",
    "\n",
    "import numpy as np\n",
    "import matplotlib.pyplot as plt\n",
    "\n",
    "from pipeline.skeletonization import Skeletonizer\n",
    "from pipeline.sampling import sample_to_penpositions\n",
    "from pipeline.graves import GravesWriter\n",
    "from pipeline.align import align\n",
    "from pipeline.render_skeleton import render_skeleton\n",
    "from pipeline.pen_style_transfer import PenStyleTransfer\n",
    "\n",
    "from datastructures.PenPosition import plotPenPositions"
   ]
  },
  {
   "cell_type": "markdown",
   "metadata": {},
   "source": [
    "## Helper functions"
   ]
  },
  {
   "cell_type": "code",
   "execution_count": null,
   "metadata": {},
   "outputs": [],
   "source": [
    "class GenText:\n",
    "    def __init__(self, PathToYaml):\n",
    "        config = self.load_config(PathToYaml)\n",
    "        self.fontStyles = self.populate_writing_styles(config['fontStyles'])\n",
    "        self.penStyleTransfer = PenStyleTransfer()\n",
    "        self.writer = GravesWriter()\n",
    "        \n",
    "    def load_config(self, PathToYaml):\n",
    "        with open(PathToYaml) as f:\n",
    "            return yaml.load(f, Loader=yaml.FullLoader)\n",
    "    \n",
    "    def get_pen_positions(self, imgPath):\n",
    "        inputImg = Image.open(imgPath).convert('RGB')\n",
    "        with Skeletonizer() as sk:\n",
    "            skeletonBlurImg = sk.skeletonize_blurred(inputImg)\n",
    "            skeletonImg = sk.skeletonize_sharp(skeletonBlurImg)\n",
    "        return inputImg, sample_to_penpositions(skeletonImg)\n",
    "        \n",
    "    def populate_writing_styles(self, dictStyles):\n",
    "        for k,v in dictStyles.items():\n",
    "            image, penPosition = self.get_pen_positions(v['img_path'])\n",
    "            dictStyles[k]['image'] = image\n",
    "            dictStyles[k]['penPosition'] = penPosition\n",
    "        return dictStyles\n",
    "    \n",
    "    def get_img_sizes(self, inputImg, newSkeletonBlurImg):\n",
    "        orig_width, orig_height = inputImg.size\n",
    "        skeleton_w, skeleton_h = newSkeletonBlurImg.size\n",
    "        return {\n",
    "            'orig': [orig_width, orig_height], \n",
    "            'skeleton': [skeleton_w, skeleton_h]}\n",
    "    \n",
    "    def resize_skeleton_image(self, imgSizes, newSkeletonBlurImg):\n",
    "        orig_width, orig_height = imgSizes['orig']\n",
    "        img_w, img_h = newSkeletonBlurImg.size\n",
    "        background = Image.new('RGBA', \n",
    "                               (img_w, orig_height),\n",
    "                               (255, 255, 255, 255),\n",
    "                              )\n",
    "        bg_w, bg_h = background.size\n",
    "        offset = ((bg_w - img_w) // 2, (bg_h - img_h) // 2)\n",
    "        background.paste(newSkeletonBlurImg, offset)\n",
    "        newSkeletonBlurImg = background.convert('RGB')\n",
    "        return newSkeletonBlurImg\n",
    "        \n",
    "    def crop_output_image(self, imgSizes, outputImg):\n",
    "        orig_width, orig_height = imgSizes['orig']\n",
    "        skeleton_w, skeleton_h = imgSizes['skeleton']\n",
    "        left = 0\n",
    "        top = (orig_height - skeleton_h)/2\n",
    "        right = skeleton_w\n",
    "        bottom = (orig_height + skeleton_h)/2\n",
    "        outputImg = outputImg.crop((left, top, right, bottom))\n",
    "        return outputImg\n",
    "    \n",
    "    def remove_whitespace(self,img):\n",
    "        pixdata = img.load()\n",
    "        width, height = img.size\n",
    "        for y in range(height):\n",
    "            for x in range(width):\n",
    "                if pixdata[x, y] == (255, 255, 255, 255):\n",
    "                    pixdata[x, y] = (255, 255, 255, 0)\n",
    "        return img\n",
    "\n",
    "    def write(self, styleNum, textOut, saveToDisk = False, showImg = False):\n",
    "        fontStyle = self.fontStyles[styleNum]\n",
    "        inputImg, penPositions = fontStyle['image'], fontStyle['penPosition']\n",
    "        \n",
    "        newPenPositions = self.writer.write(textOut, fontStyle['text'], penPositions)\n",
    "        newPenPositions = align(newPenPositions, penPositions)\n",
    "        newSkeletonBlurImg, newSkeletonImg = render_skeleton(newPenPositions)\n",
    "        imgSizes = self.get_img_sizes(inputImg, newSkeletonBlurImg)\n",
    "        newSkeletonBlurImg = self.resize_skeleton_image(imgSizes, newSkeletonBlurImg)\n",
    "        \n",
    "        outputImg = self.penStyleTransfer.transferStyle(newSkeletonBlurImg, inputImg)\n",
    "        outputImg = self.crop_output_image(imgSizes, outputImg)\n",
    "        \n",
    "        if showImg:\n",
    "            plt.figure('Full Pipeline', figsize=(16, 9))\n",
    "            plt.subplot(3, 2, 1)\n",
    "            plt.imshow(inputImg)\n",
    "            plt.subplot(3, 2, 3)\n",
    "            plt.imshow(inputImg)\n",
    "            plt.subplot(3, 2, 5)\n",
    "            plt.imshow(inputImg, cmap='binary', vmax=10)\n",
    "            plotPenPositions(penPositions)\n",
    "            plt.subplot(3, 2, 6)\n",
    "            plt.imshow(newSkeletonImg, cmap='binary', vmax=256*10)\n",
    "            plotPenPositions(newPenPositions)\n",
    "            plt.subplot(3, 2, 4)\n",
    "            plt.imshow(newSkeletonBlurImg)\n",
    "            plt.subplot(3, 2, 2)\n",
    "            plt.imshow(outputImg)\n",
    "            plt.show()\n",
    "            \n",
    "        if saveToDisk:\n",
    "            outputImg.save('output.png', 'PNG')\n",
    "            \n",
    "        return outputImg,newSkeletonImg,newSkeletonBlurImg"
   ]
  },
  {
   "cell_type": "markdown",
   "metadata": {},
   "source": [
    "## Init class and generate text"
   ]
  },
  {
   "cell_type": "code",
   "execution_count": null,
   "metadata": {},
   "outputs": [],
   "source": [
    "%%capture\n",
    "writeText = GenText('config.yaml')"
   ]
  },
  {
   "cell_type": "code",
   "execution_count": null,
   "metadata": {},
   "outputs": [],
   "source": [
    "stime = time.time()\n",
    "im, sk_im, new_sk_im = writeText.write(1, 'Amoxidal 500mg 10 capsules')\n",
    "print(f'Total time: {time.time()-stime} seconds')\n",
    "im"
   ]
  },
  {
   "cell_type": "code",
   "execution_count": null,
   "metadata": {},
   "outputs": [],
   "source": [
    "sk_im"
   ]
  },
  {
   "cell_type": "code",
   "execution_count": null,
   "metadata": {},
   "outputs": [],
   "source": [
    "new_sk_im"
   ]
  }
 ],
 "metadata": {
  "kernelspec": {
   "display_name": "conda_tensorflow_p36",
   "language": "python",
   "name": "conda_tensorflow_p36"
  },
  "language_info": {
   "codemirror_mode": {
    "name": "ipython",
    "version": 3
   },
   "file_extension": ".py",
   "mimetype": "text/x-python",
   "name": "python",
   "nbconvert_exporter": "python",
   "pygments_lexer": "ipython3",
   "version": "3.6.10"
  }
 },
 "nbformat": 4,
 "nbformat_minor": 4
}